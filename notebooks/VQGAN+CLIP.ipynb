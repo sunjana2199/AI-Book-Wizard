{
  "cells": [
    {
      "cell_type": "markdown",
      "source": [
        "#Installing Dependencies"
      ],
      "metadata": {
        "id": "daMzkM8bb2Bo"
      }
    },
    {
      "cell_type": "code",
      "execution_count": null,
      "metadata": {
        "id": "qQOvOhnKQ-Tu"
      },
      "outputs": [],
      "source": [
        "\n",
        "!pip install torch==1.9.0+cu111 torchtext==0.10.0 torchvision==0.10.0+cu111 -f https://download.pytorch.org/whl/torch/ -f https://download.pytorch.org/whl/torchvision/\n",
        "\n",
        "!git clone https://github.com/openai/CLIP\n",
        "# !pip install taming-transformers\n",
        "!git clone https://github.com/CompVis/taming-transformers.git\n",
        "!rm -Rf pixray\n",
        "!git clone https://github.com/dribnet/pixray\n",
        "!pip install ftfy regex tqdm omegaconf pytorch-lightning\n",
        "!pip install kornia==0.6.1\n",
        "!pip install imageio-ffmpeg   \n",
        "!pip install einops\n",
        "!pip install torch-optimizer\n",
        "!pip install easydict\n",
        "!pip install braceexpand\n",
        "!pip install git+https://github.com/pvigier/perlin-numpy\n",
        "!mkdir -p steps\n",
        "!mkdir -p models\n",
        "\n",
        "import sys\n",
        "sys.path.append(\"pixray\")"
      ]
    },
    {
      "cell_type": "markdown",
      "source": [
        "# Calling VQGAN + CLIP Model"
      ],
      "metadata": {
        "id": "Yzn5DjW9b6i8"
      }
    },
    {
      "cell_type": "code",
      "execution_count": null,
      "metadata": {
        "id": "XziodsCqVC2A"
      },
      "outputs": [],
      "source": [
        "\n",
        "prompts = \"The very hungry caterpillar\"\n",
        "\n",
        "quality = \"normal\"\n",
        "\n",
        "aspect = \"widescreen\" \n",
        "\n",
        "import pixray\n",
        "pixray.reset_settings()\n",
        "pixray.add_settings(prompts=prompts, aspect=aspect, quality=quality)\n",
        "pixray.add_settings(vector_prompts=\"textoff\")\n",
        "\n",
        "settings = pixray.apply_settings()\n",
        "pixray.do_init(settings)\n",
        "pixray.do_run(settings)\n"
      ]
    },
    {
      "cell_type": "code",
      "execution_count": null,
      "metadata": {
        "id": "MG5dBfKxZpxG"
      },
      "outputs": [],
      "source": [
        "pixray.add_settings(size = (800,200))"
      ]
    },
    {
      "cell_type": "code",
      "source": [
        "!pip install gradio"
      ],
      "metadata": {
        "id": "zEejR3z4vvRU"
      },
      "execution_count": null,
      "outputs": []
    },
    {
      "cell_type": "code",
      "source": [
        "import gradio as gr\n"
      ],
      "metadata": {
        "id": "VUB27eRS0poM"
      },
      "execution_count": null,
      "outputs": []
    },
    {
      "cell_type": "code",
      "source": [
        "import gradio as gr\n",
        "import torch\n",
        "import pixray\n",
        "\n",
        "# Define the main function\n",
        "def generate(prompt, quality, style, aspect):\n",
        "    torch.cuda.empty_cache()\n",
        "    pixray.reset_settings()\n",
        "    \n",
        "    use_pixeldraw = (style == 'pixel art')\n",
        "    use_clipdraw = (style == 'painting')\n",
        "    pixray.add_settings(prompts=prompt,\n",
        "                        aspect=aspect,\n",
        "                        quality=quality,\n",
        "                        use_pixeldraw=use_pixeldraw,\n",
        "                        use_clipdraw=use_clipdraw,\n",
        "                        make_video=False)\n",
        "  \n",
        "    settings = pixray.apply_settings()\n",
        "    pixray.do_init(settings)\n",
        "    pixray.do_run(settings)\n",
        "\n",
        "    return 'output.png', 'output.mp4'\n",
        "\n",
        "# Create the UI\n",
        "prompt = gr.inputs.Textbox(default=\"Underwater city\", label=\"Text Prompt\")\n",
        "quality = gr.inputs.Radio(choices=['draft', 'normal', 'better'], label=\"Quality\")\n",
        "style = gr.inputs.Radio(choices=['image', 'painting','pixel art'], label=\"Type\")\n",
        "aspect = gr.inputs.Radio(choices=['square', 'widescreen','portrait'], label=\"Size\")\n",
        "\n",
        "# Launch the demo\n",
        "iface = gr.Interface(generate, inputs=[prompt, quality, style, aspect], outputs=['image', 'video'], enable_queue=True, live=False)\n",
        "iface.launch(debug=True)"
      ],
      "metadata": {
        "colab": {
          "base_uri": "https://localhost:8080/",
          "height": 810
        },
        "id": "ZOEuAJTUvUGS",
        "outputId": "b3e638a9-377c-430c-d41a-74cd4a429e51"
      },
      "execution_count": null,
      "outputs": [
        {
          "metadata": {
            "tags": null
          },
          "name": "stderr",
          "output_type": "stream",
          "text": [
            "/usr/local/lib/python3.8/dist-packages/gradio/inputs.py:26: UserWarning: Usage of gradio.inputs is deprecated, and will not be supported in the future, please import your component from gradio.components\n",
            "  warnings.warn(\n",
            "/usr/local/lib/python3.8/dist-packages/gradio/deprecation.py:40: UserWarning: `optional` parameter is deprecated, and it has no effect\n",
            "  warnings.warn(value)\n",
            "/usr/local/lib/python3.8/dist-packages/gradio/deprecation.py:40: UserWarning: `numeric` parameter is deprecated, and it has no effect\n",
            "  warnings.warn(value)\n",
            "/usr/local/lib/python3.8/dist-packages/gradio/inputs.py:182: UserWarning: Usage of gradio.inputs is deprecated, and will not be supported in the future, please import your component from gradio.components\n",
            "  warnings.warn(\n",
            "/usr/local/lib/python3.8/dist-packages/gradio/deprecation.py:40: UserWarning: `enable_queue` is deprecated in `Interface()`, please use it within `launch()` instead.\n",
            "  warnings.warn(value)\n"
          ]
        },
        {
          "metadata": {
            "tags": null
          },
          "name": "stdout",
          "output_type": "stream",
          "text": [
            "Colab notebook detected. This cell will run indefinitely so that you can see errors and logs. To turn off, set debug=False in launch().\n",
            "Note: opening Chrome Inspector may crash demo inside Colab notebooks.\n",
            "\n",
            "To create a public link, set `share=True` in `launch()`.\n"
          ]
        },
        {
          "data": {
            "application/javascript": [
              "(async (port, path, width, height, cache, element) => {\n",
              "                        if (!google.colab.kernel.accessAllowed && !cache) {\n",
              "                            return;\n",
              "                        }\n",
              "                        element.appendChild(document.createTextNode(''));\n",
              "                        const url = await google.colab.kernel.proxyPort(port, {cache});\n",
              "\n",
              "                        const external_link = document.createElement('div');\n",
              "                        external_link.innerHTML = `\n",
              "                            <div style=\"font-family: monospace; margin-bottom: 0.5rem\">\n",
              "                                Running on <a href=${new URL(path, url).toString()} target=\"_blank\">\n",
              "                                    https://localhost:${port}${path}\n",
              "                                </a>\n",
              "                            </div>\n",
              "                        `;\n",
              "                        element.appendChild(external_link);\n",
              "\n",
              "                        const iframe = document.createElement('iframe');\n",
              "                        iframe.src = new URL(path, url).toString();\n",
              "                        iframe.height = height;\n",
              "                        iframe.allow = \"autoplay; camera; microphone; clipboard-read; clipboard-write;\"\n",
              "                        iframe.width = width;\n",
              "                        iframe.style.border = 0;\n",
              "                        element.appendChild(iframe);\n",
              "                    })(7860, \"/\", \"100%\", 500, false, window.element)"
            ],
            "text/plain": [
              "<IPython.core.display.Javascript object>"
            ]
          },
          "metadata": {},
          "output_type": "display_data"
        }
      ]
    },
    {
      "cell_type": "code",
      "source": [],
      "metadata": {
        "id": "A9PV2PxKvUC0"
      },
      "execution_count": null,
      "outputs": []
    },
    {
      "cell_type": "code",
      "source": [],
      "metadata": {
        "id": "9fywZhWCvUAU"
      },
      "execution_count": null,
      "outputs": []
    }
  ],
  "metadata": {
    "accelerator": "GPU",
    "colab": {
      "machine_shape": "hm",
      "provenance": []
    },
    "gpuClass": "standard",
    "kernelspec": {
      "display_name": "Python 3 (ipykernel)",
      "language": "python",
      "name": "python3"
    },
    "language_info": {
      "codemirror_mode": {
        "name": "ipython",
        "version": 3
      },
      "file_extension": ".py",
      "mimetype": "text/x-python",
      "name": "python",
      "nbconvert_exporter": "python",
      "pygments_lexer": "ipython3",
      "version": "3.8.10"
    }
  },
  "nbformat": 4,
  "nbformat_minor": 0
}