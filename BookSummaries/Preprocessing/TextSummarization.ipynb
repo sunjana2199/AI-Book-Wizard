{
  "nbformat": 4,
  "nbformat_minor": 0,
  "metadata": {
    "colab": {
      "provenance": []
    },
    "kernelspec": {
      "name": "python3",
      "display_name": "Python 3"
    },
    "language_info": {
      "name": "python"
    }
  },
  "cells": [
    {
      "cell_type": "code",
      "execution_count": null,
      "metadata": {
        "colab": {
          "base_uri": "https://localhost:8080/"
        },
        "id": "yh1iM43PvyJx",
        "outputId": "60655571-4664-41a3-a41e-2eb62dac7591"
      },
      "outputs": [
        {
          "output_type": "stream",
          "name": "stderr",
          "text": [
            "16559it [00:01, 10489.52it/s]\n"
          ]
        }
      ],
      "source": [
        "import numpy as np\n",
        "import pandas as pd\n",
        "import nltk\n",
        "import json\n",
        "import re\n",
        "import csv\n",
        "from tqdm import tqdm\n",
        "pd.set_option('display.max_colwidth', 300)\n",
        "\n",
        "data = []\n",
        "\n",
        "with open('/content/booksummaries.txt', 'r') as f:\n",
        "    reader = csv.reader(f, dialect='excel-tab')\n",
        "    for row in tqdm(reader):\n",
        "        data.append(row)"
      ]
    },
    {
      "cell_type": "code",
      "source": [
        "book_index = []\n",
        "book_id = []\n",
        "book_author = []\n",
        "book_name = []\n",
        "summary = []\n",
        "genre = []\n",
        "a = 1\n",
        "for i in tqdm(data):\n",
        "    book_index.append(a)\n",
        "    a = a+1\n",
        "    book_id.append(i[0])\n",
        "    book_name.append(i[2])\n",
        "    book_author.append(i[3])\n",
        "    genre.append(i[5])\n",
        "    summary.append(i[6])\n",
        "\n",
        "df = pd.DataFrame({'Index': book_index, 'ID': book_id, 'BookTitle': book_name, 'Author': book_author,\n",
        "                       'Genre': genre, 'Summary': summary})\n",
        "df.head()"
      ],
      "metadata": {
        "colab": {
          "base_uri": "https://localhost:8080/",
          "height": 458
        },
        "id": "IrrbBoA5whAz",
        "outputId": "230a6113-6ae1-4bff-c19e-094ad0e4d581"
      },
      "execution_count": null,
      "outputs": [
        {
          "output_type": "stream",
          "name": "stderr",
          "text": [
            "100%|██████████| 16559/16559 [00:00<00:00, 130860.60it/s]\n"
          ]
        },
        {
          "output_type": "execute_result",
          "data": {
            "text/plain": [
              "   Index    ID                                  BookTitle           Author  \\\n",
              "0      1   620                                Animal Farm    George Orwell   \n",
              "1      2   843                         A Clockwork Orange  Anthony Burgess   \n",
              "2      3   986                                 The Plague     Albert Camus   \n",
              "3      4  1756  An Enquiry Concerning Human Understanding       David Hume   \n",
              "4      5  2080                       A Fire Upon the Deep     Vernor Vinge   \n",
              "\n",
              "                                                                                                                                                                                  Genre  \\\n",
              "0                              {\"/m/016lj8\": \"Roman \\u00e0 clef\", \"/m/06nbt\": \"Satire\", \"/m/0dwly\": \"Children's literature\", \"/m/014dfn\": \"Speculative fiction\", \"/m/02xlf\": \"Fiction\"}   \n",
              "1  {\"/m/06n90\": \"Science Fiction\", \"/m/0l67h\": \"Novella\", \"/m/014dfn\": \"Speculative fiction\", \"/m/0c082\": \"Utopian and dystopian fiction\", \"/m/06nbt\": \"Satire\", \"/m/02xlf\": \"Fiction\"}   \n",
              "2                                                                           {\"/m/02m4t\": \"Existentialism\", \"/m/02xlf\": \"Fiction\", \"/m/0pym5\": \"Absurdist fiction\", \"/m/05hgj\": \"Novel\"}   \n",
              "3                                                                                                                                                                                         \n",
              "4                                {\"/m/03lrw\": \"Hard science fiction\", \"/m/06n90\": \"Science Fiction\", \"/m/014dfn\": \"Speculative fiction\", \"/m/01hmnh\": \"Fantasy\", \"/m/02xlf\": \"Fiction\"}   \n",
              "\n",
              "                                                                                                                                                                                                                                                                                                       Summary  \n",
              "0   Old Major, the old boar on the Manor Farm, calls the animals on the farm for a meeting, where he compares the humans to parasites and teaches the animals a revolutionary song, 'Beasts of England'. When Major dies, two young pigs, Snowball and Napoleon, assume command and turn his dream into a p...  \n",
              "1   Alex, a teenager living in near-future England, leads his gang on nightly orgies of opportunistic, random \"ultra-violence.\" Alex's friends (\"droogs\" in the novel's Anglo-Russian slang, Nadsat) are: Dim, a slow-witted bruiser who is the gang's muscle; Georgie, an ambitious second-in-command; and...  \n",
              "2   The text of The Plague is divided into five parts. In the town of Oran, thousands of rats, initially unnoticed by the populace, begin to die in the streets. A hysteria develops soon afterward, causing the local newspapers to report the incident. Authorities responding to public pressure order t...  \n",
              "3   The argument of the Enquiry proceeds by a series of incremental steps, separated into chapters which logically succeed one another. After expounding his epistemology, Hume explains how to apply his principles to specific topics. In the first section of the Enquiry, Hume provides a rough introdu...  \n",
              "4   The novel posits that space around the Milky Way is divided into concentric layers called Zones, each being constrained by different laws of physics and each allowing for different degrees of biological and technological advancement. The innermost, the \"Unthinking Depths\", surrounds the galacti...  "
            ],
            "text/html": [
              "\n",
              "  <div id=\"df-dc268434-64bc-41e9-ad48-51eb547f69fc\">\n",
              "    <div class=\"colab-df-container\">\n",
              "      <div>\n",
              "<style scoped>\n",
              "    .dataframe tbody tr th:only-of-type {\n",
              "        vertical-align: middle;\n",
              "    }\n",
              "\n",
              "    .dataframe tbody tr th {\n",
              "        vertical-align: top;\n",
              "    }\n",
              "\n",
              "    .dataframe thead th {\n",
              "        text-align: right;\n",
              "    }\n",
              "</style>\n",
              "<table border=\"1\" class=\"dataframe\">\n",
              "  <thead>\n",
              "    <tr style=\"text-align: right;\">\n",
              "      <th></th>\n",
              "      <th>Index</th>\n",
              "      <th>ID</th>\n",
              "      <th>BookTitle</th>\n",
              "      <th>Author</th>\n",
              "      <th>Genre</th>\n",
              "      <th>Summary</th>\n",
              "    </tr>\n",
              "  </thead>\n",
              "  <tbody>\n",
              "    <tr>\n",
              "      <th>0</th>\n",
              "      <td>1</td>\n",
              "      <td>620</td>\n",
              "      <td>Animal Farm</td>\n",
              "      <td>George Orwell</td>\n",
              "      <td>{\"/m/016lj8\": \"Roman \\u00e0 clef\", \"/m/06nbt\": \"Satire\", \"/m/0dwly\": \"Children's literature\", \"/m/014dfn\": \"Speculative fiction\", \"/m/02xlf\": \"Fiction\"}</td>\n",
              "      <td>Old Major, the old boar on the Manor Farm, calls the animals on the farm for a meeting, where he compares the humans to parasites and teaches the animals a revolutionary song, 'Beasts of England'. When Major dies, two young pigs, Snowball and Napoleon, assume command and turn his dream into a p...</td>\n",
              "    </tr>\n",
              "    <tr>\n",
              "      <th>1</th>\n",
              "      <td>2</td>\n",
              "      <td>843</td>\n",
              "      <td>A Clockwork Orange</td>\n",
              "      <td>Anthony Burgess</td>\n",
              "      <td>{\"/m/06n90\": \"Science Fiction\", \"/m/0l67h\": \"Novella\", \"/m/014dfn\": \"Speculative fiction\", \"/m/0c082\": \"Utopian and dystopian fiction\", \"/m/06nbt\": \"Satire\", \"/m/02xlf\": \"Fiction\"}</td>\n",
              "      <td>Alex, a teenager living in near-future England, leads his gang on nightly orgies of opportunistic, random \"ultra-violence.\" Alex's friends (\"droogs\" in the novel's Anglo-Russian slang, Nadsat) are: Dim, a slow-witted bruiser who is the gang's muscle; Georgie, an ambitious second-in-command; and...</td>\n",
              "    </tr>\n",
              "    <tr>\n",
              "      <th>2</th>\n",
              "      <td>3</td>\n",
              "      <td>986</td>\n",
              "      <td>The Plague</td>\n",
              "      <td>Albert Camus</td>\n",
              "      <td>{\"/m/02m4t\": \"Existentialism\", \"/m/02xlf\": \"Fiction\", \"/m/0pym5\": \"Absurdist fiction\", \"/m/05hgj\": \"Novel\"}</td>\n",
              "      <td>The text of The Plague is divided into five parts. In the town of Oran, thousands of rats, initially unnoticed by the populace, begin to die in the streets. A hysteria develops soon afterward, causing the local newspapers to report the incident. Authorities responding to public pressure order t...</td>\n",
              "    </tr>\n",
              "    <tr>\n",
              "      <th>3</th>\n",
              "      <td>4</td>\n",
              "      <td>1756</td>\n",
              "      <td>An Enquiry Concerning Human Understanding</td>\n",
              "      <td>David Hume</td>\n",
              "      <td></td>\n",
              "      <td>The argument of the Enquiry proceeds by a series of incremental steps, separated into chapters which logically succeed one another. After expounding his epistemology, Hume explains how to apply his principles to specific topics. In the first section of the Enquiry, Hume provides a rough introdu...</td>\n",
              "    </tr>\n",
              "    <tr>\n",
              "      <th>4</th>\n",
              "      <td>5</td>\n",
              "      <td>2080</td>\n",
              "      <td>A Fire Upon the Deep</td>\n",
              "      <td>Vernor Vinge</td>\n",
              "      <td>{\"/m/03lrw\": \"Hard science fiction\", \"/m/06n90\": \"Science Fiction\", \"/m/014dfn\": \"Speculative fiction\", \"/m/01hmnh\": \"Fantasy\", \"/m/02xlf\": \"Fiction\"}</td>\n",
              "      <td>The novel posits that space around the Milky Way is divided into concentric layers called Zones, each being constrained by different laws of physics and each allowing for different degrees of biological and technological advancement. The innermost, the \"Unthinking Depths\", surrounds the galacti...</td>\n",
              "    </tr>\n",
              "  </tbody>\n",
              "</table>\n",
              "</div>\n",
              "      <button class=\"colab-df-convert\" onclick=\"convertToInteractive('df-dc268434-64bc-41e9-ad48-51eb547f69fc')\"\n",
              "              title=\"Convert this dataframe to an interactive table.\"\n",
              "              style=\"display:none;\">\n",
              "        \n",
              "  <svg xmlns=\"http://www.w3.org/2000/svg\" height=\"24px\"viewBox=\"0 0 24 24\"\n",
              "       width=\"24px\">\n",
              "    <path d=\"M0 0h24v24H0V0z\" fill=\"none\"/>\n",
              "    <path d=\"M18.56 5.44l.94 2.06.94-2.06 2.06-.94-2.06-.94-.94-2.06-.94 2.06-2.06.94zm-11 1L8.5 8.5l.94-2.06 2.06-.94-2.06-.94L8.5 2.5l-.94 2.06-2.06.94zm10 10l.94 2.06.94-2.06 2.06-.94-2.06-.94-.94-2.06-.94 2.06-2.06.94z\"/><path d=\"M17.41 7.96l-1.37-1.37c-.4-.4-.92-.59-1.43-.59-.52 0-1.04.2-1.43.59L10.3 9.45l-7.72 7.72c-.78.78-.78 2.05 0 2.83L4 21.41c.39.39.9.59 1.41.59.51 0 1.02-.2 1.41-.59l7.78-7.78 2.81-2.81c.8-.78.8-2.07 0-2.86zM5.41 20L4 18.59l7.72-7.72 1.47 1.35L5.41 20z\"/>\n",
              "  </svg>\n",
              "      </button>\n",
              "      \n",
              "  <style>\n",
              "    .colab-df-container {\n",
              "      display:flex;\n",
              "      flex-wrap:wrap;\n",
              "      gap: 12px;\n",
              "    }\n",
              "\n",
              "    .colab-df-convert {\n",
              "      background-color: #E8F0FE;\n",
              "      border: none;\n",
              "      border-radius: 50%;\n",
              "      cursor: pointer;\n",
              "      display: none;\n",
              "      fill: #1967D2;\n",
              "      height: 32px;\n",
              "      padding: 0 0 0 0;\n",
              "      width: 32px;\n",
              "    }\n",
              "\n",
              "    .colab-df-convert:hover {\n",
              "      background-color: #E2EBFA;\n",
              "      box-shadow: 0px 1px 2px rgba(60, 64, 67, 0.3), 0px 1px 3px 1px rgba(60, 64, 67, 0.15);\n",
              "      fill: #174EA6;\n",
              "    }\n",
              "\n",
              "    [theme=dark] .colab-df-convert {\n",
              "      background-color: #3B4455;\n",
              "      fill: #D2E3FC;\n",
              "    }\n",
              "\n",
              "    [theme=dark] .colab-df-convert:hover {\n",
              "      background-color: #434B5C;\n",
              "      box-shadow: 0px 1px 3px 1px rgba(0, 0, 0, 0.15);\n",
              "      filter: drop-shadow(0px 1px 2px rgba(0, 0, 0, 0.3));\n",
              "      fill: #FFFFFF;\n",
              "    }\n",
              "  </style>\n",
              "\n",
              "      <script>\n",
              "        const buttonEl =\n",
              "          document.querySelector('#df-dc268434-64bc-41e9-ad48-51eb547f69fc button.colab-df-convert');\n",
              "        buttonEl.style.display =\n",
              "          google.colab.kernel.accessAllowed ? 'block' : 'none';\n",
              "\n",
              "        async function convertToInteractive(key) {\n",
              "          const element = document.querySelector('#df-dc268434-64bc-41e9-ad48-51eb547f69fc');\n",
              "          const dataTable =\n",
              "            await google.colab.kernel.invokeFunction('convertToInteractive',\n",
              "                                                     [key], {});\n",
              "          if (!dataTable) return;\n",
              "\n",
              "          const docLinkHtml = 'Like what you see? Visit the ' +\n",
              "            '<a target=\"_blank\" href=https://colab.research.google.com/notebooks/data_table.ipynb>data table notebook</a>'\n",
              "            + ' to learn more about interactive tables.';\n",
              "          element.innerHTML = '';\n",
              "          dataTable['output_type'] = 'display_data';\n",
              "          await google.colab.output.renderOutput(dataTable, element);\n",
              "          const docLink = document.createElement('div');\n",
              "          docLink.innerHTML = docLinkHtml;\n",
              "          element.appendChild(docLink);\n",
              "        }\n",
              "      </script>\n",
              "    </div>\n",
              "  </div>\n",
              "  "
            ]
          },
          "metadata": {},
          "execution_count": 2
        }
      ]
    },
    {
      "cell_type": "code",
      "source": [
        "df.isna().sum()\n",
        "\n",
        "df = df.drop(df[df['Genre'] == ''].index)\n",
        "df = df.drop(df[df['Summary'] == ''].index)\n",
        "\n",
        "\n",
        "genres_cleaned = []\n",
        "for i in df['Genre']:\n",
        "    genres_cleaned.append(list(json.loads(i).values()))\n",
        "df['Genres'] = genres_cleaned"
      ],
      "metadata": {
        "id": "QXex6mzzwoYV"
      },
      "execution_count": null,
      "outputs": []
    },
    {
      "cell_type": "code",
      "source": [
        "def clean_summary(text):\n",
        "    text = re.sub(\"\\'\", \"\", text)\n",
        "    text = re.sub(\"[^a-zA-Z]\",\" \",text)\n",
        "    text = ' '.join(text.split())\n",
        "    text = text.lower()\n",
        "    return text\n",
        "\n",
        "df['clean_summary'] = df['Summary'].apply(lambda x: clean_summary(x))\n",
        "df.head(2)"
      ],
      "metadata": {
        "colab": {
          "base_uri": "https://localhost:8080/",
          "height": 330
        },
        "id": "wxLpJf9dwt_p",
        "outputId": "df75f8ae-38db-471e-82c1-ce79187de421"
      },
      "execution_count": null,
      "outputs": [
        {
          "output_type": "execute_result",
          "data": {
            "text/plain": [
              "   Index   ID           BookTitle           Author  \\\n",
              "0      1  620         Animal Farm    George Orwell   \n",
              "1      2  843  A Clockwork Orange  Anthony Burgess   \n",
              "\n",
              "                                                                                                                                                                                  Genre  \\\n",
              "0                              {\"/m/016lj8\": \"Roman \\u00e0 clef\", \"/m/06nbt\": \"Satire\", \"/m/0dwly\": \"Children's literature\", \"/m/014dfn\": \"Speculative fiction\", \"/m/02xlf\": \"Fiction\"}   \n",
              "1  {\"/m/06n90\": \"Science Fiction\", \"/m/0l67h\": \"Novella\", \"/m/014dfn\": \"Speculative fiction\", \"/m/0c082\": \"Utopian and dystopian fiction\", \"/m/06nbt\": \"Satire\", \"/m/02xlf\": \"Fiction\"}   \n",
              "\n",
              "                                                                                                                                                                                                                                                                                                       Summary  \\\n",
              "0   Old Major, the old boar on the Manor Farm, calls the animals on the farm for a meeting, where he compares the humans to parasites and teaches the animals a revolutionary song, 'Beasts of England'. When Major dies, two young pigs, Snowball and Napoleon, assume command and turn his dream into a p...   \n",
              "1   Alex, a teenager living in near-future England, leads his gang on nightly orgies of opportunistic, random \"ultra-violence.\" Alex's friends (\"droogs\" in the novel's Anglo-Russian slang, Nadsat) are: Dim, a slow-witted bruiser who is the gang's muscle; Georgie, an ambitious second-in-command; and...   \n",
              "\n",
              "                                                                                            Genres  \\\n",
              "0                      [Roman à clef, Satire, Children's literature, Speculative fiction, Fiction]   \n",
              "1  [Science Fiction, Novella, Speculative fiction, Utopian and dystopian fiction, Satire, Fiction]   \n",
              "\n",
              "                                                                                                                                                                                                                                                                                                 clean_summary  \n",
              "0  old major the old boar on the manor farm calls the animals on the farm for a meeting where he compares the humans to parasites and teaches the animals a revolutionary song beasts of england when major dies two young pigs snowball and napoleon assume command and turn his dream into a philosophy t...  \n",
              "1  alex a teenager living in near future england leads his gang on nightly orgies of opportunistic random ultra violence alexs friends droogs in the novels anglo russian slang nadsat are dim a slow witted bruiser who is the gangs muscle georgie an ambitious second in command and pete who mostly pla...  "
            ],
            "text/html": [
              "\n",
              "  <div id=\"df-791a47fe-21b7-43fb-af33-085240113ed0\">\n",
              "    <div class=\"colab-df-container\">\n",
              "      <div>\n",
              "<style scoped>\n",
              "    .dataframe tbody tr th:only-of-type {\n",
              "        vertical-align: middle;\n",
              "    }\n",
              "\n",
              "    .dataframe tbody tr th {\n",
              "        vertical-align: top;\n",
              "    }\n",
              "\n",
              "    .dataframe thead th {\n",
              "        text-align: right;\n",
              "    }\n",
              "</style>\n",
              "<table border=\"1\" class=\"dataframe\">\n",
              "  <thead>\n",
              "    <tr style=\"text-align: right;\">\n",
              "      <th></th>\n",
              "      <th>Index</th>\n",
              "      <th>ID</th>\n",
              "      <th>BookTitle</th>\n",
              "      <th>Author</th>\n",
              "      <th>Genre</th>\n",
              "      <th>Summary</th>\n",
              "      <th>Genres</th>\n",
              "      <th>clean_summary</th>\n",
              "    </tr>\n",
              "  </thead>\n",
              "  <tbody>\n",
              "    <tr>\n",
              "      <th>0</th>\n",
              "      <td>1</td>\n",
              "      <td>620</td>\n",
              "      <td>Animal Farm</td>\n",
              "      <td>George Orwell</td>\n",
              "      <td>{\"/m/016lj8\": \"Roman \\u00e0 clef\", \"/m/06nbt\": \"Satire\", \"/m/0dwly\": \"Children's literature\", \"/m/014dfn\": \"Speculative fiction\", \"/m/02xlf\": \"Fiction\"}</td>\n",
              "      <td>Old Major, the old boar on the Manor Farm, calls the animals on the farm for a meeting, where he compares the humans to parasites and teaches the animals a revolutionary song, 'Beasts of England'. When Major dies, two young pigs, Snowball and Napoleon, assume command and turn his dream into a p...</td>\n",
              "      <td>[Roman à clef, Satire, Children's literature, Speculative fiction, Fiction]</td>\n",
              "      <td>old major the old boar on the manor farm calls the animals on the farm for a meeting where he compares the humans to parasites and teaches the animals a revolutionary song beasts of england when major dies two young pigs snowball and napoleon assume command and turn his dream into a philosophy t...</td>\n",
              "    </tr>\n",
              "    <tr>\n",
              "      <th>1</th>\n",
              "      <td>2</td>\n",
              "      <td>843</td>\n",
              "      <td>A Clockwork Orange</td>\n",
              "      <td>Anthony Burgess</td>\n",
              "      <td>{\"/m/06n90\": \"Science Fiction\", \"/m/0l67h\": \"Novella\", \"/m/014dfn\": \"Speculative fiction\", \"/m/0c082\": \"Utopian and dystopian fiction\", \"/m/06nbt\": \"Satire\", \"/m/02xlf\": \"Fiction\"}</td>\n",
              "      <td>Alex, a teenager living in near-future England, leads his gang on nightly orgies of opportunistic, random \"ultra-violence.\" Alex's friends (\"droogs\" in the novel's Anglo-Russian slang, Nadsat) are: Dim, a slow-witted bruiser who is the gang's muscle; Georgie, an ambitious second-in-command; and...</td>\n",
              "      <td>[Science Fiction, Novella, Speculative fiction, Utopian and dystopian fiction, Satire, Fiction]</td>\n",
              "      <td>alex a teenager living in near future england leads his gang on nightly orgies of opportunistic random ultra violence alexs friends droogs in the novels anglo russian slang nadsat are dim a slow witted bruiser who is the gangs muscle georgie an ambitious second in command and pete who mostly pla...</td>\n",
              "    </tr>\n",
              "  </tbody>\n",
              "</table>\n",
              "</div>\n",
              "      <button class=\"colab-df-convert\" onclick=\"convertToInteractive('df-791a47fe-21b7-43fb-af33-085240113ed0')\"\n",
              "              title=\"Convert this dataframe to an interactive table.\"\n",
              "              style=\"display:none;\">\n",
              "        \n",
              "  <svg xmlns=\"http://www.w3.org/2000/svg\" height=\"24px\"viewBox=\"0 0 24 24\"\n",
              "       width=\"24px\">\n",
              "    <path d=\"M0 0h24v24H0V0z\" fill=\"none\"/>\n",
              "    <path d=\"M18.56 5.44l.94 2.06.94-2.06 2.06-.94-2.06-.94-.94-2.06-.94 2.06-2.06.94zm-11 1L8.5 8.5l.94-2.06 2.06-.94-2.06-.94L8.5 2.5l-.94 2.06-2.06.94zm10 10l.94 2.06.94-2.06 2.06-.94-2.06-.94-.94-2.06-.94 2.06-2.06.94z\"/><path d=\"M17.41 7.96l-1.37-1.37c-.4-.4-.92-.59-1.43-.59-.52 0-1.04.2-1.43.59L10.3 9.45l-7.72 7.72c-.78.78-.78 2.05 0 2.83L4 21.41c.39.39.9.59 1.41.59.51 0 1.02-.2 1.41-.59l7.78-7.78 2.81-2.81c.8-.78.8-2.07 0-2.86zM5.41 20L4 18.59l7.72-7.72 1.47 1.35L5.41 20z\"/>\n",
              "  </svg>\n",
              "      </button>\n",
              "      \n",
              "  <style>\n",
              "    .colab-df-container {\n",
              "      display:flex;\n",
              "      flex-wrap:wrap;\n",
              "      gap: 12px;\n",
              "    }\n",
              "\n",
              "    .colab-df-convert {\n",
              "      background-color: #E8F0FE;\n",
              "      border: none;\n",
              "      border-radius: 50%;\n",
              "      cursor: pointer;\n",
              "      display: none;\n",
              "      fill: #1967D2;\n",
              "      height: 32px;\n",
              "      padding: 0 0 0 0;\n",
              "      width: 32px;\n",
              "    }\n",
              "\n",
              "    .colab-df-convert:hover {\n",
              "      background-color: #E2EBFA;\n",
              "      box-shadow: 0px 1px 2px rgba(60, 64, 67, 0.3), 0px 1px 3px 1px rgba(60, 64, 67, 0.15);\n",
              "      fill: #174EA6;\n",
              "    }\n",
              "\n",
              "    [theme=dark] .colab-df-convert {\n",
              "      background-color: #3B4455;\n",
              "      fill: #D2E3FC;\n",
              "    }\n",
              "\n",
              "    [theme=dark] .colab-df-convert:hover {\n",
              "      background-color: #434B5C;\n",
              "      box-shadow: 0px 1px 3px 1px rgba(0, 0, 0, 0.15);\n",
              "      filter: drop-shadow(0px 1px 2px rgba(0, 0, 0, 0.3));\n",
              "      fill: #FFFFFF;\n",
              "    }\n",
              "  </style>\n",
              "\n",
              "      <script>\n",
              "        const buttonEl =\n",
              "          document.querySelector('#df-791a47fe-21b7-43fb-af33-085240113ed0 button.colab-df-convert');\n",
              "        buttonEl.style.display =\n",
              "          google.colab.kernel.accessAllowed ? 'block' : 'none';\n",
              "\n",
              "        async function convertToInteractive(key) {\n",
              "          const element = document.querySelector('#df-791a47fe-21b7-43fb-af33-085240113ed0');\n",
              "          const dataTable =\n",
              "            await google.colab.kernel.invokeFunction('convertToInteractive',\n",
              "                                                     [key], {});\n",
              "          if (!dataTable) return;\n",
              "\n",
              "          const docLinkHtml = 'Like what you see? Visit the ' +\n",
              "            '<a target=\"_blank\" href=https://colab.research.google.com/notebooks/data_table.ipynb>data table notebook</a>'\n",
              "            + ' to learn more about interactive tables.';\n",
              "          element.innerHTML = '';\n",
              "          dataTable['output_type'] = 'display_data';\n",
              "          await google.colab.output.renderOutput(dataTable, element);\n",
              "          const docLink = document.createElement('div');\n",
              "          docLink.innerHTML = docLinkHtml;\n",
              "          element.appendChild(docLink);\n",
              "        }\n",
              "      </script>\n",
              "    </div>\n",
              "  </div>\n",
              "  "
            ]
          },
          "metadata": {},
          "execution_count": 4
        }
      ]
    },
    {
      "cell_type": "code",
      "source": [
        "df.shape"
      ],
      "metadata": {
        "colab": {
          "base_uri": "https://localhost:8080/"
        },
        "id": "iEoDzChCwzOM",
        "outputId": "7ce24136-a199-4267-b969-3654a57bce2b"
      },
      "execution_count": null,
      "outputs": [
        {
          "output_type": "execute_result",
          "data": {
            "text/plain": [
              "(12841, 8)"
            ]
          },
          "metadata": {},
          "execution_count": 5
        }
      ]
    },
    {
      "cell_type": "code",
      "source": [
        "x = df['Summary'][1]\n",
        "x"
      ],
      "metadata": {
        "colab": {
          "base_uri": "https://localhost:8080/",
          "height": 609
        },
        "id": "Gxm7D57fxJOd",
        "outputId": "89ec8ef6-83d7-4ec3-f24a-009686e15082"
      },
      "execution_count": null,
      "outputs": [
        {
          "output_type": "execute_result",
          "data": {
            "text/plain": [
              "' Alex, a teenager living in near-future England, leads his gang on nightly orgies of opportunistic, random \"ultra-violence.\" Alex\\'s friends (\"droogs\" in the novel\\'s Anglo-Russian slang, Nadsat) are: Dim, a slow-witted bruiser who is the gang\\'s muscle; Georgie, an ambitious second-in-command; and Pete, who mostly plays along as the droogs indulge their taste for ultra-violence. Characterized as a sociopath and a hardened juvenile delinquent, Alex is also intelligent and quick-witted, with sophisticated taste in music, being particularly fond of Beethoven, or \"Lovely Ludwig Van.\" The novel begins with the droogs sitting in their favorite hangout (the Korova Milkbar), drinking milk-drug cocktails, called \"milk-plus\", to hype themselves for the night\\'s mayhem. They assault a scholar walking home from the public library, rob a store leaving the owner and his wife bloodied and unconscious, stomp a panhandling derelict, then scuffle with a rival gang. Joyriding through the countryside in a stolen car, they break into an isolated cottage and maul the young couple living there, beating the husband and raping his wife. In a metafictional touch, the husband is a writer working on a manuscript called \"A Clockwork Orange,\" and Alex contemptuously reads out a paragraph that states the novel\\'s main theme before shredding the manuscript. Back at the milk bar, Alex punishes Dim for some crude behaviour, and strains within the gang become apparent. At home in his dreary flat, Alex plays classical music at top volume while fantasizing of even more orgiastic violence. Alex skips school the next day. Following an unexpected visit from P.R. Deltoid, his \"post-corrective advisor,\" Alex meets a pair of ten-year-old girls and takes them back to his parents\\' flat, where he administers hard drugs and then rapes them. That evening, Alex finds his droogs in a mutinous mood. Georgie challenges Alex for leadership of the gang, demanding that they pull a \"man-sized\" job. Alex quells the rebellion by slashing Dim\\'s hand and fighting with Georgie, then in a show of generosity takes them to a bar, where Alex insists on following through on Georgie\\'s idea to burgle the home of a wealthy old woman. The break-in starts as farce and ends in tragic pathos, as Alex\\'s attack kills the elderly woman. His escape is blocked by Dim, who attacks Alex, leaving him incapacitated on the front step as the police arrive. Sentenced to prison for murder, Alex gets a job at the Wing chapel playing religious music on the stereo before and after services as well as during the singing of hymns. The prison chaplain mistakes Alex\\'s Bible studies for stirrings of faith (Alex is actually reading Scripture for the violent passages). After Alex\\'s fellow cellmates blame him for beating a troublesome cellmate to death, he agrees to undergo an experimental behaviour-modification treatment called the Ludovico Technique. The technique is a form of aversion therapy in which Alex receives an injection that makes him feel sick while watching graphically violent films, eventually conditioning him to suffer crippling bouts of nausea at the mere thought of violence. As an unintended consequence, the soundtrack to one of the films—Beethoven\\'s Fifth Symphony—renders Alex unable to listen to his beloved classical music. The effectiveness of the technique is demonstrated to a group of VIPs, who watch as Alex collapses before a walloping bully, and abases himself before a scantily-clad young woman whose presence has aroused his predatory sexual inclinations. Though the prison chaplain accuses the state of stripping Alex of free will, the government officials on the scene are pleased with the results and Alex is released into society. Since his parents are now renting his room to a lodger, Alex wanders the streets and enters a public library where he hopes to learn a painless way to commit suicide. There, he accidentally encounters the old scholar he assaulted earlier in the book, who, keen on revenge, beats Alex with the help of his friends. The policemen who come to Alex\\'s rescue turn out to be none other than Dim and former gang rival Billyboy. The two policemen take Alex outside of town and beat him up. Dazed and bloodied, Alex collapses at the door of an isolated cottage, realizing too late that it is the house he and his droogs invaded in the first half of the story. Because the gang wore masks during the assault, the writer does not recognize Alex. The writer, whose name is revealed as F. Alexander, shelters Alex and questions him about the conditioning. During this sequence, it is revealed that Mrs. Alexander died from the injuries inflicted during the gang-rape, and her husband has decided to continue living \"where her fragrant memory persists\" despite the horrid memories. Alexander, a critic of the government, hopes to use Alex as a symbol of state brutality and thereby prevent the incumbent government from being re-elected. Eventually, he begins to realize Alex\\'s role in the happenings of the night two years ago. One of Alexander\\'s radical associates manages to extract a confession from Alex after removing him from F. Alexander\\'s home and then locks him in a flatblock near his former home. Alex is then subjected to a relentless barrage of classical music, prompting him to attempt suicide by leaping from a high window. Alex wakes up in hospital, where he is courted by government officials anxious to counter the bad publicity created by his suicide attempt. With Alexander safely packed off to a mental institution, Alex is offered a well-paying job if he agrees to side with the government. As photographers snap pictures, Alex daydreams of orgiastic violence and realizes the Ludovico conditioning has been reversed: \"I was cured all right.\" In the final chapter, Alex has a new trio of droogs, but he finds he is beginning to outgrow his taste for violence. A chance encounter with Pete, now married and settled down, inspires Alex to seek a wife and family of his own. He contemplates the likelihood of his future son being a delinquent as he was, a prospect Alex views fatalistically.'"
            ],
            "application/vnd.google.colaboratory.intrinsic+json": {
              "type": "string"
            }
          },
          "metadata": {},
          "execution_count": 35
        }
      ]
    },
    {
      "cell_type": "markdown",
      "source": [
        "##Text Summarization using BERT"
      ],
      "metadata": {
        "id": "BPYD0Xxay6e6"
      }
    },
    {
      "cell_type": "code",
      "source": [
        "# !pip install transformers==4.25.1\n",
        "# !pip install bert-extractive-summarizer==0.10.1\n",
        "# !pip install spacy==2.0.12"
      ],
      "metadata": {
        "id": "YTY47gbhy6Kb"
      },
      "execution_count": null,
      "outputs": []
    },
    {
      "cell_type": "code",
      "source": [
        "from summarizer import Summarizer"
      ],
      "metadata": {
        "colab": {
          "base_uri": "https://localhost:8080/"
        },
        "id": "FfW29uH10pBI",
        "outputId": "96a220b4-e802-4ded-dd5c-6543aa1e07ce"
      },
      "execution_count": null,
      "outputs": [
        {
          "output_type": "stream",
          "name": "stderr",
          "text": [
            "/usr/local/lib/python3.8/dist-packages/torch/cuda/__init__.py:497: UserWarning: Can't initialize NVML\n",
            "  warnings.warn(\"Can't initialize NVML\")\n"
          ]
        }
      ]
    },
    {
      "cell_type": "code",
      "source": [
        "body = '''\n",
        "       Scientists say they have discovered a new species of orangutans on Indonesia’s island of Sumatra.\n",
        "The population differs in several ways from the two existing orangutan species found in Sumatra and the neighboring island of Borneo.\n",
        "The orangutans were found inside North Sumatra’s Batang Toru forest, the science publication Current Biology reported.\n",
        "Researchers named the new species the Tapanuli orangutan. They say the animals are considered a new species because of genetic, skeletal and tooth differences.\n",
        "Michael Kruetzen is a geneticist with the University of Zurich who has studied the orangutans for several years. He said he was excited to be part of the unusual discovery of a new great ape in the present day. He noted that most great apes are currently considered endangered or severely endangered.\n",
        "Gorillas, chimpanzees and bonobos also belong to the great ape species.\n",
        "Orangutan – which means person of the forest in the Indonesian and Malay languages - is the world’s biggest tree-living mammal. The orange-haired animals can move easily among the trees because their arms are longer than their legs. They live more lonely lives than other great apes, spending a lot of time sleeping and eating fruit in the forest.\n",
        "The new study said fewer than 800 of the newly-described orangutans exist. Their low numbers make the group the most endangered of all the great ape species.\n",
        "They live within an area covering about 1,000 square kilometers. The population is considered highly vulnerable. That is because the environment which they depend on is greatly threatened by development.\n",
        "Researchers say if steps are not taken quickly to reduce the current and future threats, the new species could become extinct “within our lifetime.”\n",
        "Research into the new species began in 2013, when an orangutan protection group in Sumatra found an injured orangutan in an area far away from the other species. The adult male orangutan had been beaten by local villagers and died of his injuries. The complete skull was examined by researchers.\n",
        "Among the physical differences of the new species are a notably smaller head and frizzier hair. The Tapanuli orangutans also have a different diet and are found only in higher forest areas.\n",
        "There is no unified international system for recognizing new species. But to be considered, discovery claims at least require publication in a major scientific publication.\n",
        "Russell Mittermeier is head of the primate specialist group at the International Union for the Conservation of Nature. He called the finding a “remarkable discovery.” He said it puts responsibility on the Indonesian government to help the species survive.\n",
        "Matthew Nowak is one of the writers of the study. He told the Associated Press that there are three groups of the Tapanuli orangutans that are separated by non-protected land.He said forest land needs to connect the separated groups.\n",
        "In addition, the writers of the study are recommending that plans for a hydropower center in the area be stopped by the government.\n",
        "It also recommended that remaining forest in the Sumatran area where the orangutans live be protected.\n",
        "I’m Bryan Lynn.\n",
        "\n",
        "        '''"
      ],
      "metadata": {
        "id": "amqxCHNEAQ8F"
      },
      "execution_count": null,
      "outputs": []
    },
    {
      "cell_type": "code",
      "source": [
        "body =  x "
      ],
      "metadata": {
        "id": "KhEzk32JAy_c"
      },
      "execution_count": null,
      "outputs": []
    },
    {
      "cell_type": "code",
      "source": [
        "bert_model = Summarizer()\n",
        "bert_summary = ''.join(bert_model(body, max_length=60))\n",
        "print(bert_summary)"
      ],
      "metadata": {
        "colab": {
          "base_uri": "https://localhost:8080/"
        },
        "id": "-d5JGlddAiuD",
        "outputId": "44564430-44b2-451e-e05a-82cfc9094aa2"
      },
      "execution_count": null,
      "outputs": [
        {
          "output_type": "stream",
          "name": "stderr",
          "text": [
            "Some weights of the model checkpoint at bert-large-uncased were not used when initializing BertModel: ['cls.seq_relationship.bias', 'cls.predictions.decoder.weight', 'cls.seq_relationship.weight', 'cls.predictions.transform.dense.bias', 'cls.predictions.transform.LayerNorm.bias', 'cls.predictions.transform.dense.weight', 'cls.predictions.bias', 'cls.predictions.transform.LayerNorm.weight']\n",
            "- This IS expected if you are initializing BertModel from the checkpoint of a model trained on another task or with another architecture (e.g. initializing a BertForSequenceClassification model from a BertForPreTraining model).\n",
            "- This IS NOT expected if you are initializing BertModel from the checkpoint of a model that you expect to be exactly identical (initializing a BertForSequenceClassification model from a BertForSequenceClassification model).\n"
          ]
        },
        {
          "output_type": "stream",
          "name": "stdout",
          "text": [
            "That evening, Alex finds his droogs in a mutinous mood.\n"
          ]
        }
      ]
    },
    {
      "cell_type": "code",
      "source": [
        "from summarizer import TransformerSummarizer"
      ],
      "metadata": {
        "id": "0uvucnrECPOE"
      },
      "execution_count": null,
      "outputs": []
    },
    {
      "cell_type": "code",
      "source": [
        "GPT2_model = TransformerSummarizer(transformer_type=\"GPT2\",transformer_model_key=\"gpt2-medium\")\n",
        "full = ''.join(GPT2_model(body, num_sentences=1))\n",
        "print(full)"
      ],
      "metadata": {
        "colab": {
          "base_uri": "https://localhost:8080/"
        },
        "id": "1736cB4sCVHy",
        "outputId": "404086d0-0a92-49ea-dedb-b0156369fb90"
      },
      "execution_count": null,
      "outputs": [
        {
          "output_type": "stream",
          "name": "stdout",
          "text": [
            "Alex, a teenager living in near-future England, leads his gang on nightly orgies of opportunistic, random \"ultra-violence.\"\n"
          ]
        }
      ]
    },
    {
      "cell_type": "code",
      "source": [
        "clean_summary(full)"
      ],
      "metadata": {
        "id": "4rL8bMEKJ_OO",
        "outputId": "2ef78ec3-a2e5-46c8-ce0b-bdbc3b8f3ee9",
        "colab": {
          "base_uri": "https://localhost:8080/",
          "height": 36
        }
      },
      "execution_count": null,
      "outputs": [
        {
          "output_type": "execute_result",
          "data": {
            "text/plain": [
              "'alex a teenager living in near future england leads his gang on nightly orgies of opportunistic random ultra violence'"
            ],
            "application/vnd.google.colaboratory.intrinsic+json": {
              "type": "string"
            }
          },
          "metadata": {},
          "execution_count": 37
        }
      ]
    },
    {
      "cell_type": "code",
      "source": [
        "# bert_summaries = []\n",
        "# for i in df['clean_summary'][0:5]:\n",
        "bert_model = Summarizer()\n",
        "bert_summary = ''.join(bert_model(body, min_length=60))\n",
        "bert_summaries.append(bert_summary)"
      ],
      "metadata": {
        "colab": {
          "base_uri": "https://localhost:8080/"
        },
        "id": "qbvhgSgDxh6F",
        "outputId": "a746c5cd-10db-4e34-ca29-5b3351c83665"
      },
      "execution_count": null,
      "outputs": [
        {
          "output_type": "stream",
          "name": "stderr",
          "text": [
            "Some weights of the model checkpoint at bert-large-uncased were not used when initializing BertModel: ['cls.seq_relationship.bias', 'cls.predictions.decoder.weight', 'cls.seq_relationship.weight', 'cls.predictions.transform.dense.bias', 'cls.predictions.transform.LayerNorm.bias', 'cls.predictions.transform.dense.weight', 'cls.predictions.bias', 'cls.predictions.transform.LayerNorm.weight']\n",
            "- This IS expected if you are initializing BertModel from the checkpoint of a model trained on another task or with another architecture (e.g. initializing a BertForSequenceClassification model from a BertForPreTraining model).\n",
            "- This IS NOT expected if you are initializing BertModel from the checkpoint of a model that you expect to be exactly identical (initializing a BertForSequenceClassification model from a BertForSequenceClassification model).\n",
            "Some weights of the model checkpoint at bert-large-uncased were not used when initializing BertModel: ['cls.seq_relationship.bias', 'cls.predictions.decoder.weight', 'cls.seq_relationship.weight', 'cls.predictions.transform.dense.bias', 'cls.predictions.transform.LayerNorm.bias', 'cls.predictions.transform.dense.weight', 'cls.predictions.bias', 'cls.predictions.transform.LayerNorm.weight']\n",
            "- This IS expected if you are initializing BertModel from the checkpoint of a model trained on another task or with another architecture (e.g. initializing a BertForSequenceClassification model from a BertForPreTraining model).\n",
            "- This IS NOT expected if you are initializing BertModel from the checkpoint of a model that you expect to be exactly identical (initializing a BertForSequenceClassification model from a BertForSequenceClassification model).\n",
            "Some weights of the model checkpoint at bert-large-uncased were not used when initializing BertModel: ['cls.seq_relationship.bias', 'cls.predictions.decoder.weight', 'cls.seq_relationship.weight', 'cls.predictions.transform.dense.bias', 'cls.predictions.transform.LayerNorm.bias', 'cls.predictions.transform.dense.weight', 'cls.predictions.bias', 'cls.predictions.transform.LayerNorm.weight']\n",
            "- This IS expected if you are initializing BertModel from the checkpoint of a model trained on another task or with another architecture (e.g. initializing a BertForSequenceClassification model from a BertForPreTraining model).\n",
            "- This IS NOT expected if you are initializing BertModel from the checkpoint of a model that you expect to be exactly identical (initializing a BertForSequenceClassification model from a BertForSequenceClassification model).\n",
            "Some weights of the model checkpoint at bert-large-uncased were not used when initializing BertModel: ['cls.seq_relationship.bias', 'cls.predictions.decoder.weight', 'cls.seq_relationship.weight', 'cls.predictions.transform.dense.bias', 'cls.predictions.transform.LayerNorm.bias', 'cls.predictions.transform.dense.weight', 'cls.predictions.bias', 'cls.predictions.transform.LayerNorm.weight']\n",
            "- This IS expected if you are initializing BertModel from the checkpoint of a model trained on another task or with another architecture (e.g. initializing a BertForSequenceClassification model from a BertForPreTraining model).\n",
            "- This IS NOT expected if you are initializing BertModel from the checkpoint of a model that you expect to be exactly identical (initializing a BertForSequenceClassification model from a BertForSequenceClassification model).\n",
            "Some weights of the model checkpoint at bert-large-uncased were not used when initializing BertModel: ['cls.seq_relationship.bias', 'cls.predictions.decoder.weight', 'cls.seq_relationship.weight', 'cls.predictions.transform.dense.bias', 'cls.predictions.transform.LayerNorm.bias', 'cls.predictions.transform.dense.weight', 'cls.predictions.bias', 'cls.predictions.transform.LayerNorm.weight']\n",
            "- This IS expected if you are initializing BertModel from the checkpoint of a model trained on another task or with another architecture (e.g. initializing a BertForSequenceClassification model from a BertForPreTraining model).\n",
            "- This IS NOT expected if you are initializing BertModel from the checkpoint of a model that you expect to be exactly identical (initializing a BertForSequenceClassification model from a BertForSequenceClassification model).\n"
          ]
        }
      ]
    },
    {
      "cell_type": "code",
      "source": [
        "bert_summaries"
      ],
      "metadata": {
        "colab": {
          "base_uri": "https://localhost:8080/"
        },
        "id": "SPsj90FJzZ8Z",
        "outputId": "33ef9ef6-2960-47a4-edb5-4442fb8a0c24"
      },
      "execution_count": null,
      "outputs": [
        {
          "output_type": "execute_result",
          "data": {
            "text/plain": [
              "['', '', '', '', '']"
            ]
          },
          "metadata": {},
          "execution_count": 13
        }
      ]
    },
    {
      "cell_type": "code",
      "source": [],
      "metadata": {
        "id": "UT4tCzPjACDu"
      },
      "execution_count": null,
      "outputs": []
    }
  ]
}